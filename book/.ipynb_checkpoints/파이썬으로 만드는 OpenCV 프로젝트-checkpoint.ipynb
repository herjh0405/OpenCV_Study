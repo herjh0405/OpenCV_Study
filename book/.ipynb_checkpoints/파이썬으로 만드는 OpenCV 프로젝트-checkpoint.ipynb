{
 "cells": [
  {
   "cell_type": "code",
   "execution_count": 1,
   "id": "afraid-water",
   "metadata": {},
   "outputs": [
    {
     "data": {
      "text/plain": [
       "'4.5.1'"
      ]
     },
     "execution_count": 1,
     "metadata": {},
     "output_type": "execute_result"
    }
   ],
   "source": [
    "import cv2\n",
    "cv2.__version__"
   ]
  },
  {
   "cell_type": "markdown",
   "id": "chronic-survivor",
   "metadata": {},
   "source": [
    "파일 읽기\n",
    "- 파일 이름은 한글 인식 불가"
   ]
  },
  {
   "cell_type": "code",
   "execution_count": 2,
   "id": "emotional-digest",
   "metadata": {},
   "outputs": [],
   "source": [
    "img_file = './data/casual.jpg'\n",
    "img = cv2.imread(img_file)\n",
    "\n",
    "if img is not None :\n",
    "    cv2.imshow('IMG', img)\n",
    "    cv2.waitKey()\n",
    "    cv2.destroyAllWindows()\n",
    "    \n",
    "else :\n",
    "    print('No image file.')"
   ]
  },
  {
   "cell_type": "markdown",
   "id": "innocent-awareness",
   "metadata": {},
   "source": [
    "파일 쓰기"
   ]
  },
  {
   "cell_type": "code",
   "execution_count": 3,
   "id": "intermediate-limit",
   "metadata": {},
   "outputs": [
    {
     "data": {
      "text/plain": [
       "True"
      ]
     },
     "execution_count": 3,
     "metadata": {},
     "output_type": "execute_result"
    }
   ],
   "source": [
    "# 파일 쓰기\n",
    "img = cv2.imread(img_file, cv2.IMREAD_GRAYSCALE)\n",
    "cv2.imwrite('./data/gray_casual.jpg', img)"
   ]
  },
  {
   "cell_type": "markdown",
   "id": "peaceful-bonus",
   "metadata": {},
   "source": [
    "fps를 구해서 delay 시간 계산하여 저장된 영상 재생"
   ]
  },
  {
   "cell_type": "code",
   "execution_count": 4,
   "id": "immune-attention",
   "metadata": {},
   "outputs": [
    {
     "name": "stdout",
     "output_type": "stream",
     "text": [
      "FPS: 29.847199, Delay: 33ms\n"
     ]
    }
   ],
   "source": [
    "# fps를 구해서 delay 시간 계산하여 저장된 영상 재생\n",
    "video_file = './data/climb.mp4'\n",
    "\n",
    "cap = cv2.VideoCapture(video_file)\n",
    "\n",
    "if cap.isOpened():\n",
    "    fps = cap.get(cv2.CAP_PROP_FPS)\n",
    "    delay = int(1000/fps)\n",
    "    \n",
    "    print('FPS: %f, Delay: %dms' %(fps, delay))\n",
    "    while True:\n",
    "        ret, img = cap.read()\n",
    "        if ret : \n",
    "            cv2.imshow(video_file, img)\n",
    "            cv2.waitKey(delay)\n",
    "        else :\n",
    "            break\n",
    "else :\n",
    "    print('can`t open video.')\n",
    "cap.release()\n",
    "cv2.destroyAllWindows()"
   ]
  },
  {
   "cell_type": "markdown",
   "id": "abstract-netherlands",
   "metadata": {},
   "source": [
    "노트북에 연결된 카메라 재생"
   ]
  },
  {
   "cell_type": "code",
   "execution_count": 5,
   "id": "dirty-professional",
   "metadata": {},
   "outputs": [],
   "source": [
    "cap = cv2.VideoCapture(0)\n",
    "if cap.isOpened():\n",
    "    while True:\n",
    "        ret, img = cap.read()\n",
    "        if ret : \n",
    "            cv2.imshow('camera', img)\n",
    "            if cv2.waitKey(1) != -1 :\n",
    "                break\n",
    "        else :\n",
    "            print('no frame')\n",
    "            break\n",
    "else :\n",
    "    print('can`t open video.')\n",
    "cap.release()\n",
    "cv2.destroyAllWindows()"
   ]
  },
  {
   "cell_type": "markdown",
   "id": "fourth-copying",
   "metadata": {},
   "source": [
    "Resize - 저장된 영상은 resize가 안되고 웹카메라만 가능함"
   ]
  },
  {
   "cell_type": "code",
   "execution_count": 8,
   "id": "underlying-oasis",
   "metadata": {},
   "outputs": [
    {
     "name": "stdout",
     "output_type": "stream",
     "text": [
      "Original Width: 640, height: 480\n",
      "Resized Width: 320, height: 240\n"
     ]
    }
   ],
   "source": [
    "cap = cv2.VideoCapture(0)\n",
    "\n",
    "width = cap.get(cv2.CAP_PROP_FRAME_WIDTH)\n",
    "height = cap.get(cv2.CAP_PROP_FRAME_HEIGHT)\n",
    "print('Original Width: %d, height: %d' %(width, height))\n",
    "\n",
    "cap.set(cv2.CAP_PROP_FRAME_WIDTH, 320)\n",
    "cap.set(cv2.CAP_PROP_FRAME_HEIGHT, 240)\n",
    "\n",
    "width = cap.get(cv2.CAP_PROP_FRAME_WIDTH)\n",
    "height = cap.get(cv2.CAP_PROP_FRAME_HEIGHT)\n",
    "print('Resized Width: %d, height: %d' %(width, height))\n",
    "\n",
    "if cap.isOpened():\n",
    "    while True:\n",
    "        ret, img = cap.read()\n",
    "        if ret : \n",
    "            cv2.imshow('camera', img)\n",
    "            if cv2.waitKey(1) != -1 :\n",
    "                break\n",
    "        else :\n",
    "            print('no frame')\n",
    "            break\n",
    "else :\n",
    "    print('can`t open video.')\n",
    "cap.release()\n",
    "cv2.destroyAllWindows()"
   ]
  },
  {
   "cell_type": "markdown",
   "id": "favorite-current",
   "metadata": {},
   "source": [
    "노트북에 연결된 카메라로 사진 저장"
   ]
  },
  {
   "cell_type": "code",
   "execution_count": 2,
   "id": "unique-finger",
   "metadata": {},
   "outputs": [],
   "source": [
    "# 노트북에 연결된 카메라 재생\n",
    "cap = cv2.VideoCapture(0)\n",
    "if cap.isOpened():\n",
    "    while True:\n",
    "        ret, img = cap.read()\n",
    "        if ret : \n",
    "            cv2.imshow('camera', img)\n",
    "            if cv2.waitKey(1) != -1 :\n",
    "                cv2.imwrite('capture.jpg', img)\n",
    "                break\n",
    "        else :\n",
    "            print('no frame')\n",
    "            break\n",
    "else :\n",
    "    print('can`t open video.')\n",
    "cap.release()\n",
    "cv2.destroyAllWindows()"
   ]
  },
  {
   "cell_type": "markdown",
   "id": "three-screen",
   "metadata": {},
   "source": [
    "녹화한 영상 저장하는 asda"
   ]
  },
  {
   "cell_type": "code",
   "execution_count": 4,
   "id": "permanent-entertainment",
   "metadata": {},
   "outputs": [],
   "source": [
    "cap = cv2.VideoCapture(0)\n",
    "\n",
    "if cap.isOpened:\n",
    "    file_path = './record.avi'\n",
    "    fps = 25.40\n",
    "    \n",
    "    fourcc = cv2.VideoWriter_fourcc(*'DIVX')\n",
    "    width = cap.get(cv2.CAP_PROP_FRAME_WIDTH)\n",
    "    height = cap.get(cv2.CAP_PROP_FRAME_HEIGHT)\n",
    "    size = (int(width), int(height))\n",
    "    out = cv2.VideoWriter(file_path, fourcc, fps, size)\n",
    "    \n",
    "    while True:\n",
    "        ret, frame = cap.read()\n",
    "        if ret:\n",
    "            cv2.imshow('camera-recoding', frame)\n",
    "            out.write(frame)\n",
    "            if cv2.waitKey(int(1000/fps)) != -1 :\n",
    "                break\n",
    "        else :\n",
    "            print('no frame!')\n",
    "            break\n",
    "    out.release()\n",
    "else :\n",
    "    print('can`t open camera!')\n",
    "cap.release()\n",
    "cv2.destroyAllWindows()"
   ]
  },
  {
   "cell_type": "code",
   "execution_count": 3,
   "id": "sorted-independence",
   "metadata": {},
   "outputs": [],
   "source": [
    "cap = cv2.VideoCapture(0)\n",
    "fps = 25.40\n",
    "while True:\n",
    "    ret, frame = cap.read()\n",
    "    if ret:\n",
    "        cv2.imshow('camera-recoding', frame)\n",
    "        if cv2.waitKey(int(1000/fps)*1) != -1 :\n",
    "            break\n",
    "            \n",
    "cap.release()\n",
    "cv2.destroyAllWindows()"
   ]
  },
  {
   "cell_type": "code",
   "execution_count": 4,
   "id": "precise-associate",
   "metadata": {},
   "outputs": [],
   "source": [
    "fourcc = cv2.VideoWriter_fourcc(*'DIVX')"
   ]
  },
  {
   "cell_type": "code",
   "execution_count": null,
   "id": "conscious-porter",
   "metadata": {},
   "outputs": [],
   "source": []
  }
 ],
 "metadata": {
  "kernelspec": {
   "display_name": "Python 3",
   "language": "python",
   "name": "python3"
  },
  "language_info": {
   "codemirror_mode": {
    "name": "ipython",
    "version": 3
   },
   "file_extension": ".py",
   "mimetype": "text/x-python",
   "name": "python",
   "nbconvert_exporter": "python",
   "pygments_lexer": "ipython3",
   "version": "3.9.2"
  }
 },
 "nbformat": 4,
 "nbformat_minor": 5
}
